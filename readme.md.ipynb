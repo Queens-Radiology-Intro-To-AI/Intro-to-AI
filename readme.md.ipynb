{
 "cells": [
  {
   "cell_type": "markdown",
   "metadata": {},
   "source": [
    "# Introduction to Artificial Intelligence\n",
    "\n",
    "In May 2022, the Department of Diagnostic Radiology at Queen's University hosted a 3-week introduction to AI workshop. The workshop focuses on developing foundational literacy in AI for diagnostic radiology residents. The curriculum includes didactic lectures designed by a team of AI engineers and staff radiologist, case studies from literature, and programming examples highlighting data processing for AI analysis.\n",
    "\n",
    "<br>\n",
    "\n",
    "The curriculum was designed to follow specific learning objectives to introduce data science definitions, supervised and supervised learning, predictive analysis with machine learning, validation, requirements for clinical deployment, and introduction to modern techniques in deep learning. \n",
    "\n",
    "<br>\n",
    "\n",
    "All curricular content, including lectures, learning objectives, and programming examples, is available publicly hosted in our online repository [here](https://github.com/Queens-Radiology-Intro-To-AI/Intro-to-AI).\n",
    "\n",
    "<br>\n",
    "\n",
    "Visualization of a) curricular content and b) progra\n",
    "![Curriculum](./Images/curriculum.PNG)"
   ]
  },
  {
   "cell_type": "code",
   "execution_count": null,
   "metadata": {},
   "outputs": [],
   "source": []
  }
 ],
 "metadata": {
  "kernelspec": {
   "display_name": "Python 3",
   "language": "python",
   "name": "python3"
  },
  "language_info": {
   "codemirror_mode": {
    "name": "ipython",
    "version": 3
   },
   "file_extension": ".py",
   "mimetype": "text/x-python",
   "name": "python",
   "nbconvert_exporter": "python",
   "pygments_lexer": "ipython3",
   "version": "3.7.9"
  }
 },
 "nbformat": 4,
 "nbformat_minor": 4
}
